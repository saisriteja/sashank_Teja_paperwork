{
 "cells": [
  {
   "cell_type": "code",
   "execution_count": null,
   "metadata": {},
   "outputs": [],
   "source": [
    "import os"
   ]
  },
  {
   "cell_type": "code",
   "execution_count": null,
   "metadata": {},
   "outputs": [],
   "source": [
    "root_path = 'D:\\\\placements\\\\papers\\\\sashank_Teja_paperwork\\\\Datasets\\\\UCLASS_dataset\\\\'\n",
    "\n",
    "import os\n",
    "try:\n",
    "    os.makedirs('melspectrogram_data/f')\n",
    "    os.makedirs('melspectrogram_data/nf')\n",
    "except FileExistsError:\n",
    "    print('directories already exists')\n",
    "    "
   ]
  },
  {
   "cell_type": "code",
   "execution_count": null,
   "metadata": {},
   "outputs": [],
   "source": [
    "import matplotlib\n",
    "matplotlib.use('Agg') # No pictures displayed \n",
    "class audio:\n",
    "    def __init__(self,path):\n",
    "        self.signalData,self.samplingFrequency = librosa.load(path,sr = 22500)\n",
    "\n",
    "import pandas as pd\n",
    "data = pd.read_excel(root_path + 'UCLASS.xlsx') \n",
    "data = data.fillna(False)\n",
    "data = data[data['Text'] != False]\n",
    "\n",
    "cols = ['Name','Text','Interjection']\n",
    "data = data[cols]\n",
    "\n",
    "files = data['Name'].to_list()\n",
    "data['Name'] = [i.split('\\\\')[-1] for i in files]\n",
    "\n",
    "filler = data[data['Interjection'] != False]\n",
    "nonfiller = data[data['Interjection'] == False]"
   ]
  },
  {
   "cell_type": "code",
   "execution_count": null,
   "metadata": {},
   "outputs": [],
   "source": [
    "import matplotlib.pyplot as plt\n",
    "import librosa\n",
    "import os\n",
    "import matplotlib\n",
    "import pylab\n",
    "import librosa\n",
    "import librosa.display\n",
    "import numpy as np\n",
    "\n",
    "\n",
    "def mel_spectrogram(self,save_path,max_frequency):\n",
    "    '''\n",
    "    inputs self,save_path,frequency limits,save \n",
    "    saves a image as output\n",
    "    '''\n",
    "    plt.figure(figsize=(14, 5))\n",
    "#     X = librosa.stft(self.signalData)\n",
    "#     Xdb = librosa.amplitude_to_db(abs(X))\n",
    "    y,sr = self.signalData,self.samplingFrequency\n",
    "    \n",
    "    melSpec = librosa.feature.melspectrogram(y=y, sr=sr, n_mels=128)\n",
    "    melSpec_dB = librosa.power_to_db(melSpec, ref=np.max)\n",
    "\n",
    "    pylab.axis('off') # no axis\n",
    "    pylab.axes([0., 0., 1., 1.], frameon=False, xticks=[], yticks=[]) # Remove the white edge    \n",
    "    \n",
    "    librosa.display.specshow(melSpec_dB, x_axis='time', y_axis='mel', sr=sr, fmax=max_frequency)\n",
    "\n",
    "    pylab.savefig(save_path, bbox_inches=None, pad_inches=0)\n",
    "    pylab.close()\n"
   ]
  },
  {
   "cell_type": "code",
   "execution_count": null,
   "metadata": {},
   "outputs": [],
   "source": [
    "import os\n",
    "import matplotlib\n",
    "matplotlib.use('Agg') # No pictures displayed \n",
    "import pylab\n",
    "import librosa\n",
    "import librosa.display\n",
    "import numpy as np\n",
    "from tqdm import tqdm\n",
    "import numpy as np\n",
    "import string"
   ]
  },
  {
   "cell_type": "code",
   "execution_count": null,
   "metadata": {},
   "outputs": [],
   "source": [
    "root_dir_files = 'D:\\\\placements\\\\papers\\\\sashank_Teja_paperwork\\\\Datasets\\\\UCLASS_dataset\\\\UCLASS'\n",
    "\n",
    "filler_files = filler['Name'].to_list()\n",
    "filler_text  = filler['Text'].to_list()\n",
    "for i,j in tqdm(zip(filler_files,filler_text)):\n",
    "    file_path  = os.path.join(root_dir_files,i)\n",
    "    audio_file = audio(file_path)\n",
    "    name = j.translate(str.maketrans('', '', string.punctuation))\n",
    "    \n",
    "    spec_path = 'melspectrogram_data/f/'+name+'_f'+'.png'\n",
    "    mel_spectrogram(audio_file,spec_path,max_frequency = 2000)"
   ]
  },
  {
   "cell_type": "code",
   "execution_count": null,
   "metadata": {},
   "outputs": [],
   "source": [
    "root_dir_files = 'D:\\\\placements\\\\papers\\\\sashank_Teja_paperwork\\\\Datasets\\\\UCLASS_dataset\\\\UCLASS'\n",
    "\n",
    "nonfiller_text  = nonfiller['Text'].to_list()\n",
    "nonfiller_files = nonfiller['Name'].to_list()\n",
    "\n",
    "\n",
    "for i,j in tqdm(zip(nonfiller_files,nonfiller_text)):\n",
    "    file_path  = os.path.join(root_dir_files,i)\n",
    "    audio_file = audio(file_path)\n",
    "    name = j.translate(str.maketrans('', '', string.punctuation))\n",
    "    spec_path = 'melspectrogram_data/nf/'+name+'_nf'+'.png'\n",
    "    try:\n",
    "        mel_spectrogram(audio_file,spec_path,max_frequency = 2000)\n",
    "    except:\n",
    "        print(spec_path)"
   ]
  },
  {
   "cell_type": "code",
   "execution_count": null,
   "metadata": {},
   "outputs": [],
   "source": []
  }
 ],
 "metadata": {
  "kernelspec": {
   "display_name": "Python 3",
   "language": "python",
   "name": "python3"
  },
  "language_info": {
   "codemirror_mode": {
    "name": "ipython",
    "version": 3
   },
   "file_extension": ".py",
   "mimetype": "text/x-python",
   "name": "python",
   "nbconvert_exporter": "python",
   "pygments_lexer": "ipython3",
   "version": "3.7.6"
  }
 },
 "nbformat": 4,
 "nbformat_minor": 4
}
